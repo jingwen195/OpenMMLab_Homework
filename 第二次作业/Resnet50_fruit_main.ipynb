{
 "cells": [
  {
   "cell_type": "code",
   "execution_count": 7,
   "metadata": {},
   "outputs": [
    {
     "name": "stderr",
     "output_type": "stream",
     "text": [
      "Cloning into 'mmpretrain'...\n",
      "fatal: unable to access 'https://github.com/open-mmlab/mmpretrain/': OpenSSL SSL_read: SSL_ERROR_SYSCALL, errno 10054\n"
     ]
    }
   ],
   "source": [
    "!git clone https://github.com/open-mmlab/mmpretrain"
   ]
  },
  {
   "cell_type": "code",
   "execution_count": 9,
   "metadata": {},
   "outputs": [],
   "source": [
    "!cd mmpretrain"
   ]
  },
  {
   "cell_type": "code",
   "execution_count": 10,
   "metadata": {},
   "outputs": [
    {
     "data": {
      "text/html": [
       "<pre style=\"white-space:pre;overflow-x:auto;line-height:normal;font-family:Menlo,'DejaVu Sans Mono',consolas,'Courier New',monospace\">WARNING: Ignoring invalid distribution -rotobuf (e:\\anaconda\\envs\\pytorch\\lib\\site-packages)\n",
       "</pre>\n"
      ],
      "text/plain": [
       "WARNING: Ignoring invalid distribution -rotobuf (e:\\anaconda\\envs\\pytorch\\lib\\site-packages)\n"
      ]
     },
     "metadata": {},
     "output_type": "display_data"
    },
    {
     "data": {
      "text/html": [
       "<pre style=\"white-space:pre;overflow-x:auto;line-height:normal;font-family:Menlo,'DejaVu Sans Mono',consolas,'Courier New',monospace\">ERROR: .[mult is not a valid editable requirement. It should either be a path to a local project or a VCS URL \n",
       "(beginning with bzr+http, bzr+https, bzr+ssh, bzr+sftp, bzr+ftp, bzr+lp, bzr+file, git+http, git+https, git+ssh, \n",
       "git+git, git+file, hg+file, hg+http, hg+https, hg+ssh, hg+static-http, svn+ssh, svn+http, svn+https, svn+svn, \n",
       "svn+file).\n",
       "</pre>\n"
      ],
      "text/plain": [
       "ERROR: .[mult is not a valid editable requirement. It should either be a path to a local project or a VCS URL \n",
       "(beginning with bzr+http, bzr+https, bzr+ssh, bzr+sftp, bzr+ftp, bzr+lp, bzr+file, git+http, git+https, git+ssh, \n",
       "git+git, git+file, hg+file, hg+http, hg+https, hg+ssh, hg+static-http, svn+ssh, svn+http, svn+https, svn+svn, \n",
       "svn+file).\n"
      ]
     },
     "metadata": {},
     "output_type": "display_data"
    },
    {
     "data": {
      "text/html": [
       "<pre style=\"white-space:pre;overflow-x:auto;line-height:normal;font-family:Menlo,'DejaVu Sans Mono',consolas,'Courier New',monospace\">WARNING: Ignoring invalid distribution -rotobuf (e:\\anaconda\\envs\\pytorch\\lib\\site-packages)\n",
       "</pre>\n"
      ],
      "text/plain": [
       "WARNING: Ignoring invalid distribution -rotobuf (e:\\anaconda\\envs\\pytorch\\lib\\site-packages)\n"
      ]
     },
     "metadata": {},
     "output_type": "display_data"
    },
    {
     "data": {
      "text/html": [
       "<pre style=\"white-space:pre;overflow-x:auto;line-height:normal;font-family:Menlo,'DejaVu Sans Mono',consolas,'Courier New',monospace\">WARNING: Ignoring invalid distribution -rotobuf (e:\\anaconda\\envs\\pytorch\\lib\\site-packages)\n",
       "</pre>\n"
      ],
      "text/plain": [
       "WARNING: Ignoring invalid distribution -rotobuf (e:\\anaconda\\envs\\pytorch\\lib\\site-packages)\n"
      ]
     },
     "metadata": {},
     "output_type": "display_data"
    },
    {
     "data": {
      "text/html": [
       "<pre style=\"white-space:pre;overflow-x:auto;line-height:normal;font-family:Menlo,'DejaVu Sans Mono',consolas,'Courier New',monospace\">WARNING: Ignoring invalid distribution -rotobuf (e:\\anaconda\\envs\\pytorch\\lib\\site-packages)\n",
       "</pre>\n"
      ],
      "text/plain": [
       "WARNING: Ignoring invalid distribution -rotobuf (e:\\anaconda\\envs\\pytorch\\lib\\site-packages)\n"
      ]
     },
     "metadata": {},
     "output_type": "display_data"
    }
   ],
   "source": [
    "!mim install -e\".[multimodal]\""
   ]
  },
  {
   "cell_type": "code",
   "execution_count": 12,
   "metadata": {},
   "outputs": [
    {
     "data": {
      "text/plain": [
       "'1.0.0rc8'"
      ]
     },
     "execution_count": 12,
     "metadata": {},
     "output_type": "execute_result"
    }
   ],
   "source": [
    "import mmpretrain\n",
    "mmpretrain.__version__"
   ]
  },
  {
   "cell_type": "code",
   "execution_count": 13,
   "metadata": {},
   "outputs": [
    {
     "data": {
      "text/html": [
       "<pre style=\"white-space:pre;overflow-x:auto;line-height:normal;font-family:Menlo,'DejaVu Sans Mono',consolas,'Courier New',monospace\">WARNING: Ignoring invalid distribution -rotobuf (e:\\anaconda\\envs\\pytorch\\lib\\site-packages)\n",
       "</pre>\n"
      ],
      "text/plain": [
       "WARNING: Ignoring invalid distribution -rotobuf (e:\\anaconda\\envs\\pytorch\\lib\\site-packages)\n"
      ]
     },
     "metadata": {},
     "output_type": "display_data"
    },
    {
     "data": {
      "text/html": [
       "<pre style=\"white-space:pre;overflow-x:auto;line-height:normal;font-family:Menlo,'DejaVu Sans Mono',consolas,'Courier New',monospace\">Looking in links: https://download.openmmlab.com/mmcv/dist/cu113/torch1.12.0/index.html\n",
       "</pre>\n"
      ],
      "text/plain": [
       "Looking in links: https://download.openmmlab.com/mmcv/dist/cu113/torch1.12.0/index.html\n"
      ]
     },
     "metadata": {},
     "output_type": "display_data"
    },
    {
     "data": {
      "text/html": [
       "<pre style=\"white-space:pre;overflow-x:auto;line-height:normal;font-family:Menlo,'DejaVu Sans Mono',consolas,'Courier New',monospace\">WARNING: Ignoring invalid distribution -rotobuf (e:\\anaconda\\envs\\pytorch\\lib\\site-packages)\n",
       "</pre>\n"
      ],
      "text/plain": [
       "WARNING: Ignoring invalid distribution -rotobuf (e:\\anaconda\\envs\\pytorch\\lib\\site-packages)\n"
      ]
     },
     "metadata": {},
     "output_type": "display_data"
    },
    {
     "data": {
      "text/html": [
       "<pre style=\"white-space:pre;overflow-x:auto;line-height:normal;font-family:Menlo,'DejaVu Sans Mono',consolas,'Courier New',monospace\">Requirement already satisfied: mmengine in e:\\anaconda\\envs\\pytorch\\lib\\site-packages (0.7.3)\n",
       "</pre>\n"
      ],
      "text/plain": [
       "Requirement already satisfied: mmengine in e:\\anaconda\\envs\\pytorch\\lib\\site-packages (0.7.3)\n"
      ]
     },
     "metadata": {},
     "output_type": "display_data"
    },
    {
     "data": {
      "text/html": [
       "<pre style=\"white-space:pre;overflow-x:auto;line-height:normal;font-family:Menlo,'DejaVu Sans Mono',consolas,'Courier New',monospace\">WARNING: Ignoring invalid distribution -rotobuf (e:\\anaconda\\envs\\pytorch\\lib\\site-packages)\n",
       "</pre>\n"
      ],
      "text/plain": [
       "WARNING: Ignoring invalid distribution -rotobuf (e:\\anaconda\\envs\\pytorch\\lib\\site-packages)\n"
      ]
     },
     "metadata": {},
     "output_type": "display_data"
    },
    {
     "data": {
      "text/html": [
       "<pre style=\"white-space:pre;overflow-x:auto;line-height:normal;font-family:Menlo,'DejaVu Sans Mono',consolas,'Courier New',monospace\">Requirement already satisfied: pyyaml in e:\\anaconda\\envs\\pytorch\\lib\\site-packages (from mmengine) (6.0)\n",
       "</pre>\n"
      ],
      "text/plain": [
       "Requirement already satisfied: pyyaml in e:\\anaconda\\envs\\pytorch\\lib\\site-packages (from mmengine) (6.0)\n"
      ]
     },
     "metadata": {},
     "output_type": "display_data"
    },
    {
     "data": {
      "text/html": [
       "<pre style=\"white-space:pre;overflow-x:auto;line-height:normal;font-family:Menlo,'DejaVu Sans Mono',consolas,'Courier New',monospace\">WARNING: Ignoring invalid distribution -rotobuf (e:\\anaconda\\envs\\pytorch\\lib\\site-packages)\n",
       "</pre>\n"
      ],
      "text/plain": [
       "WARNING: Ignoring invalid distribution -rotobuf (e:\\anaconda\\envs\\pytorch\\lib\\site-packages)\n"
      ]
     },
     "metadata": {},
     "output_type": "display_data"
    },
    {
     "data": {
      "text/html": [
       "<pre style=\"white-space:pre;overflow-x:auto;line-height:normal;font-family:Menlo,'DejaVu Sans Mono',consolas,'Courier New',monospace\">WARNING: Ignoring invalid distribution -rotobuf (e:\\anaconda\\envs\\pytorch\\lib\\site-packages)\n",
       "</pre>\n"
      ],
      "text/plain": [
       "WARNING: Ignoring invalid distribution -rotobuf (e:\\anaconda\\envs\\pytorch\\lib\\site-packages)\n"
      ]
     },
     "metadata": {},
     "output_type": "display_data"
    },
    {
     "data": {
      "text/html": [
       "<pre style=\"white-space:pre;overflow-x:auto;line-height:normal;font-family:Menlo,'DejaVu Sans Mono',consolas,'Courier New',monospace\">Requirement already satisfied: termcolor in e:\\anaconda\\envs\\pytorch\\lib\\site-packages (from mmengine) (2.3.0)\n",
       "</pre>\n"
      ],
      "text/plain": [
       "Requirement already satisfied: termcolor in e:\\anaconda\\envs\\pytorch\\lib\\site-packages (from mmengine) (2.3.0)\n"
      ]
     },
     "metadata": {},
     "output_type": "display_data"
    },
    {
     "data": {
      "text/html": [
       "<pre style=\"white-space:pre;overflow-x:auto;line-height:normal;font-family:Menlo,'DejaVu Sans Mono',consolas,'Courier New',monospace\">WARNING: Ignoring invalid distribution -rotobuf (e:\\anaconda\\envs\\pytorch\\lib\\site-packages)\n",
       "</pre>\n"
      ],
      "text/plain": [
       "WARNING: Ignoring invalid distribution -rotobuf (e:\\anaconda\\envs\\pytorch\\lib\\site-packages)\n"
      ]
     },
     "metadata": {},
     "output_type": "display_data"
    },
    {
     "data": {
      "text/html": [
       "<pre style=\"white-space:pre;overflow-x:auto;line-height:normal;font-family:Menlo,'DejaVu Sans Mono',consolas,'Courier New',monospace\">Requirement already satisfied: yapf in e:\\anaconda\\envs\\pytorch\\lib\\site-packages (from mmengine) (0.32.0)\n",
       "</pre>\n"
      ],
      "text/plain": [
       "Requirement already satisfied: yapf in e:\\anaconda\\envs\\pytorch\\lib\\site-packages (from mmengine) (0.32.0)\n"
      ]
     },
     "metadata": {},
     "output_type": "display_data"
    },
    {
     "data": {
      "text/html": [
       "<pre style=\"white-space:pre;overflow-x:auto;line-height:normal;font-family:Menlo,'DejaVu Sans Mono',consolas,'Courier New',monospace\">Requirement already satisfied: numpy in e:\\anaconda\\envs\\pytorch\\lib\\site-packages (from mmengine) (1.23.3)\n",
       "</pre>\n"
      ],
      "text/plain": [
       "Requirement already satisfied: numpy in e:\\anaconda\\envs\\pytorch\\lib\\site-packages (from mmengine) (1.23.3)\n"
      ]
     },
     "metadata": {},
     "output_type": "display_data"
    },
    {
     "data": {
      "text/html": [
       "<pre style=\"white-space:pre;overflow-x:auto;line-height:normal;font-family:Menlo,'DejaVu Sans Mono',consolas,'Courier New',monospace\">Requirement already satisfied: addict in e:\\anaconda\\envs\\pytorch\\lib\\site-packages (from mmengine) (2.4.0)\n",
       "</pre>\n"
      ],
      "text/plain": [
       "Requirement already satisfied: addict in e:\\anaconda\\envs\\pytorch\\lib\\site-packages (from mmengine) (2.4.0)\n"
      ]
     },
     "metadata": {},
     "output_type": "display_data"
    },
    {
     "data": {
      "text/html": [
       "<pre style=\"white-space:pre;overflow-x:auto;line-height:normal;font-family:Menlo,'DejaVu Sans Mono',consolas,'Courier New',monospace\">Requirement already satisfied: regex in e:\\anaconda\\envs\\pytorch\\lib\\site-packages (from mmengine) (2022.10.31)\n",
       "</pre>\n"
      ],
      "text/plain": [
       "Requirement already satisfied: regex in e:\\anaconda\\envs\\pytorch\\lib\\site-packages (from mmengine) (2022.10.31)\n"
      ]
     },
     "metadata": {},
     "output_type": "display_data"
    },
    {
     "data": {
      "text/html": [
       "<pre style=\"white-space:pre;overflow-x:auto;line-height:normal;font-family:Menlo,'DejaVu Sans Mono',consolas,'Courier New',monospace\">Requirement already satisfied: rich in e:\\anaconda\\envs\\pytorch\\lib\\site-packages (from mmengine) (12.6.0)\n",
       "</pre>\n"
      ],
      "text/plain": [
       "Requirement already satisfied: rich in e:\\anaconda\\envs\\pytorch\\lib\\site-packages (from mmengine) (12.6.0)\n"
      ]
     },
     "metadata": {},
     "output_type": "display_data"
    },
    {
     "data": {
      "text/html": [
       "<pre style=\"white-space:pre;overflow-x:auto;line-height:normal;font-family:Menlo,'DejaVu Sans Mono',consolas,'Courier New',monospace\">Requirement already satisfied: opencv-python&gt;=3 in e:\\anaconda\\envs\\pytorch\\lib\\site-packages (from mmengine) \n",
       "(4.6.0.66)\n",
       "</pre>\n"
      ],
      "text/plain": [
       "Requirement already satisfied: opencv-python>=3 in e:\\anaconda\\envs\\pytorch\\lib\\site-packages (from mmengine) \n",
       "(4.6.0.66)\n"
      ]
     },
     "metadata": {},
     "output_type": "display_data"
    },
    {
     "data": {
      "text/html": [
       "<pre style=\"white-space:pre;overflow-x:auto;line-height:normal;font-family:Menlo,'DejaVu Sans Mono',consolas,'Courier New',monospace\">Requirement already satisfied: matplotlib in e:\\anaconda\\envs\\pytorch\\lib\\site-packages (from mmengine) (3.5.2)\n",
       "</pre>\n"
      ],
      "text/plain": [
       "Requirement already satisfied: matplotlib in e:\\anaconda\\envs\\pytorch\\lib\\site-packages (from mmengine) (3.5.2)\n"
      ]
     },
     "metadata": {},
     "output_type": "display_data"
    },
    {
     "data": {
      "text/html": [
       "<pre style=\"white-space:pre;overflow-x:auto;line-height:normal;font-family:Menlo,'DejaVu Sans Mono',consolas,'Courier New',monospace\">Requirement already satisfied: python-dateutil&gt;=2.7 in e:\\anaconda\\envs\\pytorch\\lib\\site-packages (from \n",
       "matplotlib-&gt;mmengine) (2.8.2)\n",
       "</pre>\n"
      ],
      "text/plain": [
       "Requirement already satisfied: python-dateutil>=2.7 in e:\\anaconda\\envs\\pytorch\\lib\\site-packages (from \n",
       "matplotlib->mmengine) (2.8.2)\n"
      ]
     },
     "metadata": {},
     "output_type": "display_data"
    },
    {
     "data": {
      "text/html": [
       "<pre style=\"white-space:pre;overflow-x:auto;line-height:normal;font-family:Menlo,'DejaVu Sans Mono',consolas,'Courier New',monospace\">Requirement already satisfied: fonttools&gt;=4.22.0 in e:\\anaconda\\envs\\pytorch\\lib\\site-packages (from \n",
       "matplotlib-&gt;mmengine) (4.25.0)\n",
       "</pre>\n"
      ],
      "text/plain": [
       "Requirement already satisfied: fonttools>=4.22.0 in e:\\anaconda\\envs\\pytorch\\lib\\site-packages (from \n",
       "matplotlib->mmengine) (4.25.0)\n"
      ]
     },
     "metadata": {},
     "output_type": "display_data"
    },
    {
     "data": {
      "text/html": [
       "<pre style=\"white-space:pre;overflow-x:auto;line-height:normal;font-family:Menlo,'DejaVu Sans Mono',consolas,'Courier New',monospace\">Requirement already satisfied: packaging&gt;=20.0 in e:\\anaconda\\envs\\pytorch\\lib\\site-packages (from \n",
       "matplotlib-&gt;mmengine) (21.3)\n",
       "</pre>\n"
      ],
      "text/plain": [
       "Requirement already satisfied: packaging>=20.0 in e:\\anaconda\\envs\\pytorch\\lib\\site-packages (from \n",
       "matplotlib->mmengine) (21.3)\n"
      ]
     },
     "metadata": {},
     "output_type": "display_data"
    },
    {
     "data": {
      "text/html": [
       "<pre style=\"white-space:pre;overflow-x:auto;line-height:normal;font-family:Menlo,'DejaVu Sans Mono',consolas,'Courier New',monospace\">Requirement already satisfied: pillow&gt;=6.2.0 in e:\\anaconda\\envs\\pytorch\\lib\\site-packages (from \n",
       "matplotlib-&gt;mmengine) (9.2.0)\n",
       "</pre>\n"
      ],
      "text/plain": [
       "Requirement already satisfied: pillow>=6.2.0 in e:\\anaconda\\envs\\pytorch\\lib\\site-packages (from \n",
       "matplotlib->mmengine) (9.2.0)\n"
      ]
     },
     "metadata": {},
     "output_type": "display_data"
    },
    {
     "data": {
      "text/html": [
       "<pre style=\"white-space:pre;overflow-x:auto;line-height:normal;font-family:Menlo,'DejaVu Sans Mono',consolas,'Courier New',monospace\">Requirement already satisfied: cycler&gt;=0.10 in e:\\anaconda\\envs\\pytorch\\lib\\site-packages (from \n",
       "matplotlib-&gt;mmengine) (0.11.0)\n",
       "</pre>\n"
      ],
      "text/plain": [
       "Requirement already satisfied: cycler>=0.10 in e:\\anaconda\\envs\\pytorch\\lib\\site-packages (from \n",
       "matplotlib->mmengine) (0.11.0)\n"
      ]
     },
     "metadata": {},
     "output_type": "display_data"
    },
    {
     "data": {
      "text/html": [
       "<pre style=\"white-space:pre;overflow-x:auto;line-height:normal;font-family:Menlo,'DejaVu Sans Mono',consolas,'Courier New',monospace\">Requirement already satisfied: kiwisolver&gt;=1.0.1 in e:\\anaconda\\envs\\pytorch\\lib\\site-packages (from \n",
       "matplotlib-&gt;mmengine) (1.4.2)\n",
       "</pre>\n"
      ],
      "text/plain": [
       "Requirement already satisfied: kiwisolver>=1.0.1 in e:\\anaconda\\envs\\pytorch\\lib\\site-packages (from \n",
       "matplotlib->mmengine) (1.4.2)\n"
      ]
     },
     "metadata": {},
     "output_type": "display_data"
    },
    {
     "data": {
      "text/html": [
       "<pre style=\"white-space:pre;overflow-x:auto;line-height:normal;font-family:Menlo,'DejaVu Sans Mono',consolas,'Courier New',monospace\">Requirement already satisfied: pyparsing&gt;=2.2.1 in e:\\anaconda\\envs\\pytorch\\lib\\site-packages (from \n",
       "matplotlib-&gt;mmengine) (3.0.9)\n",
       "</pre>\n"
      ],
      "text/plain": [
       "Requirement already satisfied: pyparsing>=2.2.1 in e:\\anaconda\\envs\\pytorch\\lib\\site-packages (from \n",
       "matplotlib->mmengine) (3.0.9)\n"
      ]
     },
     "metadata": {},
     "output_type": "display_data"
    },
    {
     "data": {
      "text/html": [
       "<pre style=\"white-space:pre;overflow-x:auto;line-height:normal;font-family:Menlo,'DejaVu Sans Mono',consolas,'Courier New',monospace\">Requirement already satisfied: pygments&lt;3.0.0,&gt;=2.6.0 in e:\\anaconda\\envs\\pytorch\\lib\\site-packages (from \n",
       "rich-&gt;mmengine) (2.11.2)\n",
       "</pre>\n"
      ],
      "text/plain": [
       "Requirement already satisfied: pygments<3.0.0,>=2.6.0 in e:\\anaconda\\envs\\pytorch\\lib\\site-packages (from \n",
       "rich->mmengine) (2.11.2)\n"
      ]
     },
     "metadata": {},
     "output_type": "display_data"
    },
    {
     "data": {
      "text/html": [
       "<pre style=\"white-space:pre;overflow-x:auto;line-height:normal;font-family:Menlo,'DejaVu Sans Mono',consolas,'Courier New',monospace\">Requirement already satisfied: commonmark&lt;0.10.0,&gt;=0.9.0 in e:\\anaconda\\envs\\pytorch\\lib\\site-packages (from \n",
       "rich-&gt;mmengine) (0.9.1)\n",
       "</pre>\n"
      ],
      "text/plain": [
       "Requirement already satisfied: commonmark<0.10.0,>=0.9.0 in e:\\anaconda\\envs\\pytorch\\lib\\site-packages (from \n",
       "rich->mmengine) (0.9.1)\n"
      ]
     },
     "metadata": {},
     "output_type": "display_data"
    },
    {
     "data": {
      "text/html": [
       "<pre style=\"white-space:pre;overflow-x:auto;line-height:normal;font-family:Menlo,'DejaVu Sans Mono',consolas,'Courier New',monospace\">Requirement already satisfied: six&gt;=1.5 in e:\\anaconda\\envs\\pytorch\\lib\\site-packages (from \n",
       "python-dateutil&gt;=2.7-&gt;matplotlib-&gt;mmengine) (1.16.0)\n",
       "</pre>\n"
      ],
      "text/plain": [
       "Requirement already satisfied: six>=1.5 in e:\\anaconda\\envs\\pytorch\\lib\\site-packages (from \n",
       "python-dateutil>=2.7->matplotlib->mmengine) (1.16.0)\n"
      ]
     },
     "metadata": {},
     "output_type": "display_data"
    }
   ],
   "source": [
    "!mim install mmengine"
   ]
  },
  {
   "cell_type": "code",
   "execution_count": 4,
   "metadata": {},
   "outputs": [],
   "source": [
    "#创建文件夹并进入\n",
    "#!mkdir data \n",
    "!cd data "
   ]
  },
  {
   "cell_type": "code",
   "execution_count": 5,
   "metadata": {},
   "outputs": [
    {
     "name": "stdout",
     "output_type": "stream",
     "text": [
      "�� Data ���ļ��� PATH �б�\n",
      "�����к�Ϊ 4CC0-E259\n",
      "F:\\CODE_ZJW\\MMPRETRAIN_ZJW\\MMPRETRAIN\n",
      "����.circleci\n",
      "��  ����docker\n",
      "����.dev_scripts\n",
      "��  ����benchmark_regression\n",
      "����.github\n",
      "��  ����ISSUE_TEMPLATE\n",
      "��  ����workflows\n",
      "����checkpoint\n",
      "����configs\n",
      "��  ����arcface\n",
      "��  ����barlowtwins\n",
      "��  ��  ����benchmarks\n",
      "��  ����beit\n",
      "��  ��  ����benchmarks\n",
      "��  ����beitv2\n",
      "��  ��  ����benchmarks\n",
      "��  ����blip\n",
      "��  ����blip2\n",
      "��  ����byol\n",
      "��  ��  ����benchmarks\n",
      "��  ����cae\n",
      "��  ��  ����benchmarks\n",
      "��  ����chinese_clip\n",
      "��  ����clip\n",
      "��  ����conformer\n",
      "��  ����convmixer\n",
      "��  ����convnext\n",
      "��  ����convnext_v2\n",
      "��  ����cspnet\n",
      "��  ����csra\n",
      "��  ����davit\n",
      "��  ����deit\n",
      "��  ����deit3\n",
      "��  ����densecl\n",
      "��  ��  ����benchmarks\n",
      "��  ����densenet\n",
      "��  ����dinov2\n",
      "��  ����edgenext\n",
      "��  ����efficientformer\n",
      "��  ����efficientnet\n",
      "��  ����efficientnet_v2\n",
      "��  ����eva\n",
      "��  ��  ����benchmarks\n",
      "��  ����eva02\n",
      "��  ����flamingo\n",
      "��  ����glip\n",
      "��  ����hornet\n",
      "��  ����hrnet\n",
      "��  ����inception_v3\n",
      "��  ����lenet\n",
      "��  ����levit\n",
      "��  ��  ����deploy\n",
      "��  ����mae\n",
      "��  ��  ����benchmarks\n",
      "��  ����maskfeat\n",
      "��  ��  ����benchmarks\n",
      "��  ����milan\n",
      "��  ��  ����benchmarks\n",
      "��  ����mixmim\n",
      "��  ��  ����benchmarks\n",
      "��  ����mlp_mixer\n",
      "��  ����mobilenet_v2\n",
      "��  ����mobilenet_v3\n",
      "��  ����mobileone\n",
      "��  ��  ����deploy\n",
      "��  ����mobilevit\n",
      "��  ����mocov2\n",
      "��  ��  ����benchmarks\n",
      "��  ����mocov3\n",
      "��  ��  ����benchmarks\n",
      "��  ����mvit\n",
      "��  ����ofa\n",
      "��  ����poolformer\n",
      "��  ����regnet\n",
      "��  ����replknet\n",
      "��  ��  ����deploy\n",
      "��  ����repmlp\n",
      "��  ����repvgg\n",
      "��  ����res2net\n",
      "��  ����resnest\n",
      "��  ����resnet\n",
      "��  ����resnext\n",
      "��  ����revvit\n",
      "��  ����riformer\n",
      "��  ��  ����deploy\n",
      "��  ����sam\n",
      "��  ����seresnet\n",
      "��  ����shufflenet_v1\n",
      "��  ����shufflenet_v2\n",
      "��  ����simclr\n",
      "��  ��  ����benchmarks\n",
      "��  ����simmim\n",
      "��  ��  ����benchmarks\n",
      "��  ����simsiam\n",
      "��  ��  ����benchmarks\n",
      "��  ����swav\n",
      "��  ��  ����benchmarks\n",
      "��  ����swin_transformer\n",
      "��  ����swin_transformer_v2\n",
      "��  ����t2t_vit\n",
      "��  ����tinyvit\n",
      "��  ����tnt\n",
      "��  ����twins\n",
      "��  ����van\n",
      "��  ����vgg\n",
      "��  ����vig\n",
      "��  ����vision_transformer\n",
      "��  ����wrn\n",
      "��  ����xcit\n",
      "��  ����_base_\n",
      "��      ����datasets\n",
      "��      ��  ����pipelines\n",
      "��      ����models\n",
      "��      ��  ����conformer\n",
      "��      ��  ����convmixer\n",
      "��      ��  ����convnext\n",
      "��      ��  ����convnext_v2\n",
      "��      ��  ����davit\n",
      "��      ��  ����deit3\n",
      "��      ��  ����densenet\n",
      "��      ��  ����edgenext\n",
      "��      ��  ����efficientnet_v2\n",
      "��      ��  ����eva\n",
      "��      ��  ����hornet\n",
      "��      ��  ����hrnet\n",
      "��      ��  ����mixmim\n",
      "��      ��  ����mobilenet_v3\n",
      "��      ��  ����mobileone\n",
      "��      ��  ����mobilevit\n",
      "��      ��  ����mvit\n",
      "��      ��  ����poolformer\n",
      "��      ��  ����regnet\n",
      "��      ��  ����revvit\n",
      "��      ��  ����swin_transformer\n",
      "��      ��  ����swin_transformer_v2\n",
      "��      ��  ����tinyvit\n",
      "��      ��  ����van\n",
      "��      ��  ����vig\n",
      "��      ����schedules\n",
      "����data\n",
      "��  ����fruit30_train\n",
      "��  ��  �������ܹ�\n",
      "��  ��  ����ʥŮ��\n",
      "��  ��  ����ɽ��\n",
      "��  ��  ������÷\n",
      "��  ��  ��������\n",
      "��  ��  ��������\n",
      "��  ��  ������Բ\n",
      "��  ��  ������\n",
      "��  ��  ����Ҭ��\n",
      "��  ��  ��������\n",
      "��  ��  ����������\n",
      "��  ��  ����⨺���\n",
      "��  ��  ����ʯ��\n",
      "��  ��  ����ɰ����\n",
      "��  ��  �������ܲ�\n",
      "��  ��  �������\n",
      "��  ��  ����â��\n",
      "��  ��  �������\n",
      "��  ��  ����ƻ��-��\n",
      "��  ��  ����ƻ��-��\n",
      "��  ��  ������ݮ\n",
      "��  ��  ������֦\n",
      "��  ��  ��������\n",
      "��  ��  ��������-��\n",
      "��  ��  ��������-��\n",
      "��  ��  ��������\n",
      "��  ��  ����������\n",
      "��  ��  ����������\n",
      "��  ��  �����㽶\n",
      "��  ��  �����ƹ�\n",
      "��  ����test\n",
      "��  ��  �������ܹ�\n",
      "��  ��  ����ʥŮ��\n",
      "��  ��  ����ɽ��\n",
      "��  ��  ������÷\n",
      "��  ��  ��������\n",
      "��  ��  ��������\n",
      "��  ��  ������Բ\n",
      "��  ��  ������\n",
      "��  ��  ����Ҭ��\n",
      "��  ��  ��������\n",
      "��  ��  ����������\n",
      "��  ��  ����⨺���\n",
      "��  ��  ����ʯ��\n",
      "��  ��  ����ɰ����\n",
      "��  ��  �������ܲ�\n",
      "��  ��  �������\n",
      "��  ��  ����â��\n",
      "��  ��  �������\n",
      "��  ��  ����ƻ��-��\n",
      "��  ��  ����ƻ��-��\n",
      "��  ��  ������ݮ\n",
      "��  ��  ������֦\n",
      "��  ��  ��������\n",
      "��  ��  ��������-��\n",
      "��  ��  ��������-��\n",
      "��  ��  ��������\n",
      "��  ��  ����������\n",
      "��  ��  ����������\n",
      "��  ��  �����㽶\n",
      "��  ��  �����ƹ�\n",
      "��  ����train\n",
      "��      �������ܹ�\n",
      "��      ����ʥŮ��\n",
      "��      ����ɽ��\n",
      "��      ������÷\n",
      "��      ��������\n",
      "��      ��������\n",
      "��      ������Բ\n",
      "��      ������\n",
      "��      ����Ҭ��\n",
      "��      ��������\n",
      "��      ����������\n",
      "��      ����⨺���\n",
      "��      ����ʯ��\n",
      "��      ����ɰ����\n",
      "��      �������ܲ�\n",
      "��      �������\n",
      "��      ����â��\n",
      "��      �������\n",
      "��      ����ƻ��-��\n",
      "��      ����ƻ��-��\n",
      "��      ������ݮ\n",
      "��      ������֦\n",
      "��      ��������\n",
      "��      ��������-��\n",
      "��      ��������-��\n",
      "��      ��������\n",
      "��      ����������\n",
      "��      ����������\n",
      "��      �����㽶\n",
      "��      �����ƹ�\n",
      "����demo\n",
      "����docker\n",
      "��  ����serve\n",
      "����docs\n",
      "��  ����en\n",
      "��  ��  ����advanced_guides\n",
      "��  ��  ����api\n",
      "��  ��  ����device\n",
      "��  ��  ����notes\n",
      "��  ��  ����useful_tools\n",
      "��  ��  ����user_guides\n",
      "��  ��  ����_static\n",
      "��  ��  ��  ����css\n",
      "��  ��  ��  ����image\n",
      "��  ��  ��  ��  ����tools\n",
      "��  ��  ��  ��      ����analysis\n",
      "��  ��  ��  ����js\n",
      "��  ��  ����_templates\n",
      "��  ��      ����autosummary\n",
      "��  ����zh_CN\n",
      "��      ����advanced_guides\n",
      "��      ����device\n",
      "��      ����locales\n",
      "��      ��  ����zh_CN\n",
      "��      ��      ����LC_MESSAGES\n",
      "��      ����notes\n",
      "��      ����useful_tools\n",
      "��      ����user_guides\n",
      "��      ����_static\n",
      "��      ��  ����css\n",
      "��      ��  ����image\n",
      "��      ��  ��  ����tools\n",
      "��      ��  ��      ����analysis\n",
      "��      ��  ����js\n",
      "��      ����_templates\n",
      "��          ����autosummary\n",
      "����mmpretrain\n",
      "��  ����apis\n",
      "��  ��  ����__pycache__\n",
      "��  ����datasets\n",
      "��  ��  ����samplers\n",
      "��  ��  ����transforms\n",
      "��  ����engine\n",
      "��  ��  ����hooks\n",
      "��  ��  ����optimizers\n",
      "��  ��  ����runners\n",
      "��  ����evaluation\n",
      "��  ��  ����functional\n",
      "��  ��  ����metrics\n",
      "��  ����models\n",
      "��  ��  ����backbones\n",
      "��  ��  ����classifiers\n",
      "��  ��  ����heads\n",
      "��  ��  ����losses\n",
      "��  ��  ����multimodal\n",
      "��  ��  ��  ����blip\n",
      "��  ��  ��  ����blip2\n",
      "��  ��  ��  ����chinese_clip\n",
      "��  ��  ��  ����flamingo\n",
      "��  ��  ��  ����ofa\n",
      "��  ��  ����necks\n",
      "��  ��  ����retrievers\n",
      "��  ��  ����selfsup\n",
      "��  ��  ����tta\n",
      "��  ��  ����utils\n",
      "��  ��      ����batch_augments\n",
      "��  ����structures\n",
      "��  ��  ����__pycache__\n",
      "��  ����utils\n",
      "��  ��  ����__pycache__\n",
      "��  ����visualization\n",
      "��  ����__pycache__\n",
      "����projects\n",
      "��  ����example_project\n",
      "��  ��  ����configs\n",
      "��  ��  ����models\n",
      "��  ����fgia_accv2022_1st\n",
      "��  ��  ����config\n",
      "��  ����gradio_demo\n",
      "��  ����maskfeat_video\n",
      "��      ����configs\n",
      "��      ����models\n",
      "��      ����tools\n",
      "����requirements\n",
      "����resources\n",
      "����tests\n",
      "��  ����data\n",
      "��  ��  ����dataset\n",
      "��  ��      ����a\n",
      "��  ��      ����b\n",
      "��  ��          ����subb\n",
      "��  ����test_apis\n",
      "��  ����test_datasets\n",
      "��  ��  ����test_samplers\n",
      "��  ��  ����test_transforms\n",
      "��  ����test_engine\n",
      "��  ��  ����test_hooks\n",
      "��  ��  ����test_optimizers\n",
      "��  ����test_evaluation\n",
      "��  ��  ����test_metrics\n",
      "��  ����test_models\n",
      "��  ��  ����test_backbones\n",
      "��  ��  ����test_selfsup\n",
      "��  ��  ����test_utils\n",
      "��  ����test_structures\n",
      "��  ����test_utils\n",
      "��  ����test_visualization\n",
      "����tools\n",
      "��  ����analysis_tools\n",
      "��  ����benchmarks\n",
      "��  ��  ����mmdetection\n",
      "��  ��  ����mmsegmentation\n",
      "��  ����dataset_converters\n",
      "��  ����misc\n",
      "��  ����model_converters\n",
      "��  ����torchserve\n",
      "��  ����visualization\n",
      "����work_dirs\n"
     ]
    }
   ],
   "source": [
    "#从网上下载压缩包\n",
    "#!wget https://download.openmmlab.com/mmclassification/dataset/cats_dogs_dataset.tar\n",
    "#解压数据集\n",
    "#!tar -xf fruit.tar\n",
    "# 进入数据集\n",
    "!cd data/fruit30_train\n",
    "#查看数据集结构\n",
    "!tree ./\n"
   ]
  },
  {
   "cell_type": "code",
   "execution_count": 40,
   "metadata": {},
   "outputs": [],
   "source": [
    "import glob\n",
    "import random\n",
    "from PIL import Image\n",
    "import os\n",
    "\n",
    "os.chdir('./data')\n",
    "def read_split_data(data_path, ratio):\n",
    "    test_split_ratio = ratio\n",
    "    raw_path = data_path\n",
    "\n",
    "    dirs = glob.glob(os.path.join(raw_path, '*'))\n",
    "    dirs = [d for d in dirs if os.path.isdir(d)]  # 只保留dirs中文件夹的部分，不考虑文件的部分\n",
    "\n",
    "    print(f'Totally {len(dirs)} classes: {dirs}')\n",
    "\n",
    "    for path in dirs:\n",
    "        # 对每个类别单独处理\n",
    "\n",
    "        path = path.split('\\\\')[-1]\n",
    "        print(path)\n",
    "\n",
    "        os.makedirs(f'train/{path}', exist_ok=True)\n",
    "        os.makedirs(f'test/{path}', exist_ok=True)\n",
    "\n",
    "        files = glob.glob(os.path.join(raw_path, path, '*'))  # 直接读取文件夹下的全部图片（前提是文件夹里的所有文件都是图片）\n",
    "        #files += glob.glob(os.path.join(raw_path, path, '*.JPG'))\n",
    "        #files += glob.glob(os.path.join(raw_path, path, '*.png'))\n",
    "\n",
    "        random.shuffle(files)\n",
    "\n",
    "        boundary = int(len(files)*test_split_ratio)  # 训练集和测试集的边界\n",
    "        print('len(files):',len(files))\n",
    "        print('boundary:',boundary)\n",
    "\n",
    "        for i, file in enumerate(files):\n",
    "            img = Image.open(file)\n",
    "\n",
    "            if i <= boundary:\n",
    "                img.save(os.path.join(f'test/{path}', file.split('\\\\')[-1].split('.')[0]+'.jpg'))\n",
    "            else:\n",
    "                img.save(os.path.join(f'train/{path}', file.split('\\\\')[-1].split('.')[0]+'.jpg'))\n",
    "\n",
    "    test_files = glob.glob(os.path.join('test', '*', '*.jpg'))\n",
    "    train_files = glob.glob(os.path.join('train', '*', '*.jpg'))\n",
    "\n",
    "    print(f'Totally {len(train_files)} files for training')\n",
    "    print(f'Totally {len(test_files)} files for test')"
   ]
  },
  {
   "cell_type": "code",
   "execution_count": 41,
   "metadata": {},
   "outputs": [
    {
     "name": "stdout",
     "output_type": "stream",
     "text": [
      "Totally 30 classes: ['F:/Code_ZJW/MMPretrain_zjw/mmpretrain-main/data/fruit30_train\\\\哈密瓜', 'F:/Code_ZJW/MMPretrain_zjw/mmpretrain-main/data/fruit30_train\\\\圣女果', 'F:/Code_ZJW/MMPretrain_zjw/mmpretrain-main/data/fruit30_train\\\\山竹', 'F:/Code_ZJW/MMPretrain_zjw/mmpretrain-main/data/fruit30_train\\\\杨梅', 'F:/Code_ZJW/MMPretrain_zjw/mmpretrain-main/data/fruit30_train\\\\柚子', 'F:/Code_ZJW/MMPretrain_zjw/mmpretrain-main/data/fruit30_train\\\\柠檬', 'F:/Code_ZJW/MMPretrain_zjw/mmpretrain-main/data/fruit30_train\\\\桂圆', 'F:/Code_ZJW/MMPretrain_zjw/mmpretrain-main/data/fruit30_train\\\\梨', 'F:/Code_ZJW/MMPretrain_zjw/mmpretrain-main/data/fruit30_train\\\\椰子', 'F:/Code_ZJW/MMPretrain_zjw/mmpretrain-main/data/fruit30_train\\\\榴莲', 'F:/Code_ZJW/MMPretrain_zjw/mmpretrain-main/data/fruit30_train\\\\火龙果', 'F:/Code_ZJW/MMPretrain_zjw/mmpretrain-main/data/fruit30_train\\\\猕猴桃', 'F:/Code_ZJW/MMPretrain_zjw/mmpretrain-main/data/fruit30_train\\\\石榴', 'F:/Code_ZJW/MMPretrain_zjw/mmpretrain-main/data/fruit30_train\\\\砂糖橘', 'F:/Code_ZJW/MMPretrain_zjw/mmpretrain-main/data/fruit30_train\\\\胡萝卜', 'F:/Code_ZJW/MMPretrain_zjw/mmpretrain-main/data/fruit30_train\\\\脐橙', 'F:/Code_ZJW/MMPretrain_zjw/mmpretrain-main/data/fruit30_train\\\\芒果', 'F:/Code_ZJW/MMPretrain_zjw/mmpretrain-main/data/fruit30_train\\\\苦瓜', 'F:/Code_ZJW/MMPretrain_zjw/mmpretrain-main/data/fruit30_train\\\\苹果-红', 'F:/Code_ZJW/MMPretrain_zjw/mmpretrain-main/data/fruit30_train\\\\苹果-青', 'F:/Code_ZJW/MMPretrain_zjw/mmpretrain-main/data/fruit30_train\\\\草莓', 'F:/Code_ZJW/MMPretrain_zjw/mmpretrain-main/data/fruit30_train\\\\荔枝', 'F:/Code_ZJW/MMPretrain_zjw/mmpretrain-main/data/fruit30_train\\\\菠萝', 'F:/Code_ZJW/MMPretrain_zjw/mmpretrain-main/data/fruit30_train\\\\葡萄-白', 'F:/Code_ZJW/MMPretrain_zjw/mmpretrain-main/data/fruit30_train\\\\葡萄-红', 'F:/Code_ZJW/MMPretrain_zjw/mmpretrain-main/data/fruit30_train\\\\西瓜', 'F:/Code_ZJW/MMPretrain_zjw/mmpretrain-main/data/fruit30_train\\\\西红柿', 'F:/Code_ZJW/MMPretrain_zjw/mmpretrain-main/data/fruit30_train\\\\车厘子', 'F:/Code_ZJW/MMPretrain_zjw/mmpretrain-main/data/fruit30_train\\\\香蕉', 'F:/Code_ZJW/MMPretrain_zjw/mmpretrain-main/data/fruit30_train\\\\黄瓜']\n",
      "哈密瓜\n",
      "len(files): 168\n",
      "boundary: 33\n",
      "圣女果\n",
      "len(files): 196\n",
      "boundary: 39\n",
      "山竹\n",
      "len(files): 174\n",
      "boundary: 34\n",
      "杨梅\n",
      "len(files): 174\n",
      "boundary: 34\n",
      "柚子\n",
      "len(files): 176\n",
      "boundary: 35\n",
      "柠檬\n",
      "len(files): 136\n",
      "boundary: 27\n",
      "桂圆\n",
      "len(files): 171\n",
      "boundary: 34\n",
      "梨\n",
      "len(files): 158\n",
      "boundary: 31\n",
      "椰子\n",
      "len(files): 183\n",
      "boundary: 36\n",
      "榴莲\n",
      "len(files): 173\n",
      "boundary: 34\n",
      "火龙果\n",
      "len(files): 154\n",
      "boundary: 30\n",
      "猕猴桃\n",
      "len(files): 176\n",
      "boundary: 35\n",
      "石榴\n",
      "len(files): 171\n",
      "boundary: 34\n",
      "砂糖橘\n",
      "len(files): 167\n",
      "boundary: 33\n",
      "胡萝卜\n",
      "len(files): 164\n",
      "boundary: 32\n",
      "脐橙\n",
      "len(files): 175\n",
      "boundary: 35\n",
      "芒果\n",
      "len(files): 151\n",
      "boundary: 30\n",
      "苦瓜\n",
      "len(files): 169\n",
      "boundary: 33\n",
      "苹果-红\n",
      "len(files): 142\n",
      "boundary: 28\n",
      "苹果-青\n",
      "len(files): 158\n",
      "boundary: 31\n",
      "草莓\n",
      "len(files): 187\n",
      "boundary: 37\n",
      "荔枝\n",
      "len(files): 193\n",
      "boundary: 38\n",
      "菠萝\n",
      "len(files): 182\n",
      "boundary: 36\n",
      "葡萄-白\n",
      "len(files): 127\n",
      "boundary: 25\n",
      "葡萄-红\n",
      "len(files): 171\n",
      "boundary: 34\n",
      "西瓜\n",
      "len(files): 186\n",
      "boundary: 37\n",
      "西红柿\n",
      "len(files): 168\n",
      "boundary: 33\n",
      "车厘子\n",
      "len(files): 155\n",
      "boundary: 31\n",
      "香蕉\n",
      "len(files): 168\n",
      "boundary: 33\n",
      "黄瓜\n",
      "len(files): 162\n",
      "boundary: 32\n",
      "Totally 3591 files for training\n",
      "Totally 1005 files for test\n"
     ]
    }
   ],
   "source": [
    "#data_path='./fruit30_train'\n",
    "data_path = 'F:/Code_ZJW/MMPretrain_zjw/mmpretrain-main/data/fruit30_train'\n",
    "# 测试集比例\n",
    "ratio = 0.2\n",
    "\n",
    "read_split_data(data_path, ratio)"
   ]
  },
  {
   "cell_type": "markdown",
   "metadata": {},
   "source": [
    "# 训练"
   ]
  },
  {
   "cell_type": "code",
   "execution_count": 6,
   "metadata": {},
   "outputs": [
    {
     "name": "stderr",
     "output_type": "stream",
     "text": [
      "python: can't open file 'f:\\\\Code_ZJW\\\\MMPretrain_zjw\\\\mmpretrain\\\\train': [Errno 2] No such file or directory\n"
     ]
    }
   ],
   "source": [
    "#一般在命令行运行\n",
    "!python tools/train.py configs/resnet50.py --work-dir workdir\n",
    "!mim train mmpretrain ./configs/resnet50.py --work-dir"
   ]
  },
  {
   "cell_type": "markdown",
   "metadata": {},
   "source": [
    "# 测试"
   ]
  },
  {
   "cell_type": "code",
   "execution_count": null,
   "metadata": {},
   "outputs": [],
   "source": [
    "#测试结果保存在work_dir/resnet50_zjw文件夹中\n",
    "!python tools/test.py configs/resnet50.py  workdir/epoch_5.pth\n"
   ]
  },
  {
   "cell_type": "markdown",
   "metadata": {},
   "source": [
    "# 使用真实图像推理"
   ]
  },
  {
   "cell_type": "code",
   "execution_count": 10,
   "metadata": {},
   "outputs": [
    {
     "name": "stdout",
     "output_type": "stream",
     "text": [
      "Loads checkpoint by local backend from path: ./workdir/epoch_1.pth\n"
     ]
    },
    {
     "data": {
      "text/html": [
       "<pre style=\"white-space:pre;overflow-x:auto;line-height:normal;font-family:Menlo,'DejaVu Sans Mono',consolas,'Courier New',monospace\">e:\\anaconda\\envs\\pytorch\\lib\\site-packages\\rich\\live.py:229: UserWarning: install \"ipywidgets\" for Jupyter support\n",
       "  warnings.warn('install \"ipywidgets\" for Jupyter support')\n",
       "</pre>\n"
      ],
      "text/plain": [
       "e:\\anaconda\\envs\\pytorch\\lib\\site-packages\\rich\\live.py:229: UserWarning: install \"ipywidgets\" for Jupyter support\n",
       "  warnings.warn('install \"ipywidgets\" for Jupyter support')\n"
      ]
     },
     "metadata": {},
     "output_type": "display_data"
    },
    {
     "data": {
      "text/html": [
       "<pre style=\"white-space:pre;overflow-x:auto;line-height:normal;font-family:Menlo,'DejaVu Sans Mono',consolas,'Courier New',monospace\"></pre>\n"
      ],
      "text/plain": []
     },
     "metadata": {},
     "output_type": "display_data"
    },
    {
     "name": "stdout",
     "output_type": "stream",
     "text": [
      "06/08 00:17:36 - mmengine - WARNING - `Visualizer` backend is not initialized because save_dir is None.\n"
     ]
    },
    {
     "name": "stderr",
     "output_type": "stream",
     "text": [
      "e:\\anaconda\\envs\\pytorch\\lib\\site-packages\\mmengine\\visualization\\utils.py:240: UserWarning: Glyph 33609 (\\N{CJK UNIFIED IDEOGRAPH-8349}) missing from current font.\n",
      "  s, (width, height) = canvas.print_to_buffer()\n",
      "e:\\anaconda\\envs\\pytorch\\lib\\site-packages\\mmengine\\visualization\\utils.py:240: UserWarning: Glyph 33683 (\\N{CJK UNIFIED IDEOGRAPH-8393}) missing from current font.\n",
      "  s, (width, height) = canvas.print_to_buffer()\n",
      "e:\\anaconda\\envs\\pytorch\\lib\\site-packages\\mmengine\\visualization\\utils.py:240: UserWarning: Glyph 33609 (\\N{CJK UNIFIED IDEOGRAPH-8349}) missing from current font.\n",
      "  s, (width, height) = canvas.print_to_buffer()\n",
      "e:\\anaconda\\envs\\pytorch\\lib\\site-packages\\mmengine\\visualization\\utils.py:240: UserWarning: Glyph 33683 (\\N{CJK UNIFIED IDEOGRAPH-8393}) missing from current font.\n",
      "  s, (width, height) = canvas.print_to_buffer()\n"
     ]
    },
    {
     "data": {
      "text/plain": [
       "[{'pred_scores': array([0.02692275, 0.03734631, 0.02778885, 0.03875882, 0.02968089,\n",
       "         0.01694942, 0.03497682, 0.03158095, 0.03731288, 0.02531793,\n",
       "         0.03584212, 0.02218352, 0.04620568, 0.03461192, 0.03587765,\n",
       "         0.02951979, 0.02061092, 0.02173462, 0.03573759, 0.02029059,\n",
       "         0.06069285, 0.04384719, 0.02759619, 0.02397591, 0.04890098,\n",
       "         0.03360721, 0.04989566, 0.03423549, 0.02427115, 0.04372735],\n",
       "        dtype=float32),\n",
       "  'pred_label': 20,\n",
       "  'pred_score': 0.06069284677505493,\n",
       "  'pred_class': '草莓'}]"
      ]
     },
     "execution_count": 10,
     "metadata": {},
     "output_type": "execute_result"
    }
   ],
   "source": [
    "# 导入推理工具包\n",
    "from mmpretrain import ImageClassificationInferencer\n",
    "\n",
    "# 设置推理配置文件和训练权重\n",
    "inferencer = ImageClassificationInferencer('./configs/resnet50.py', pretrained='./workdir/epoch_5.pth')\n",
    "#使用30种训练一轮做推理结果不好\n",
    "# 对指定图片做推理\n",
    "inferencer(\"./img/草莓.jpg\", show=True)"
   ]
  }
 ],
 "metadata": {
  "kernelspec": {
   "display_name": "Python 3.10.6 64-bit ('pytorch': conda)",
   "language": "python",
   "name": "python3"
  },
  "language_info": {
   "codemirror_mode": {
    "name": "ipython",
    "version": 3
   },
   "file_extension": ".py",
   "mimetype": "text/x-python",
   "name": "python",
   "nbconvert_exporter": "python",
   "pygments_lexer": "ipython3",
   "version": "3.10.6"
  },
  "orig_nbformat": 4,
  "vscode": {
   "interpreter": {
    "hash": "e063e9a8a883e7f2ad807c9757853fd01f81ef60e0f1f53df51e50ca8decf10b"
   }
  }
 },
 "nbformat": 4,
 "nbformat_minor": 2
}
