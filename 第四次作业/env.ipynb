{
 "cells": [
  {
   "cell_type": "code",
   "execution_count": null,
   "metadata": {},
   "outputs": [],
   "source": [
    "!rm -rf mmsegmentation\n",
    "!git clone https://github.com/open-mmlab/mmsegmentation.git -b dev-1.x\n"
   ]
  },
  {
   "cell_type": "code",
   "execution_count": 1,
   "metadata": {},
   "outputs": [],
   "source": [
    "\n",
    "import os\n",
    "os.chdir('mmsegmentation')\n"
   ]
  },
  {
   "cell_type": "code",
   "execution_count": 2,
   "metadata": {},
   "outputs": [
    {
     "name": "stdout",
     "output_type": "stream",
     "text": [
      "Using pip 22.2.2 from e:\\anaconda\\envs\\pytorch\\lib\\site-packages\\pip (python 3.10)\n",
      "Obtaining file:///F:/GitHub/OpenMMLab_MMSegmentation/OpenMMLab_MMSegmentation-main/mmsegmentation\n",
      "  Preparing metadata (setup.py): started\n",
      "  Preparing metadata (setup.py): finished with status 'done'\n",
      "Requirement already satisfied: matplotlib in e:\\anaconda\\envs\\pytorch\\lib\\site-packages (from mmsegmentation==1.0.0) (3.5.2)\n",
      "Requirement already satisfied: numpy in e:\\anaconda\\envs\\pytorch\\lib\\site-packages (from mmsegmentation==1.0.0) (1.23.3)\n",
      "Requirement already satisfied: packaging in e:\\anaconda\\envs\\pytorch\\lib\\site-packages (from mmsegmentation==1.0.0) (21.3)\n",
      "Requirement already satisfied: prettytable in e:\\anaconda\\envs\\pytorch\\lib\\site-packages (from mmsegmentation==1.0.0) (3.7.0)\n",
      "Requirement already satisfied: scipy in e:\\anaconda\\envs\\pytorch\\lib\\site-packages (from mmsegmentation==1.0.0) (1.9.1)\n",
      "Requirement already satisfied: python-dateutil>=2.7 in e:\\anaconda\\envs\\pytorch\\lib\\site-packages (from matplotlib->mmsegmentation==1.0.0) (2.8.2)\n",
      "Requirement already satisfied: fonttools>=4.22.0 in e:\\anaconda\\envs\\pytorch\\lib\\site-packages (from matplotlib->mmsegmentation==1.0.0) (4.25.0)\n",
      "Requirement already satisfied: kiwisolver>=1.0.1 in e:\\anaconda\\envs\\pytorch\\lib\\site-packages (from matplotlib->mmsegmentation==1.0.0) (1.4.2)\n",
      "Requirement already satisfied: pillow>=6.2.0 in e:\\anaconda\\envs\\pytorch\\lib\\site-packages (from matplotlib->mmsegmentation==1.0.0) (9.2.0)\n",
      "Requirement already satisfied: pyparsing>=2.2.1 in e:\\anaconda\\envs\\pytorch\\lib\\site-packages (from matplotlib->mmsegmentation==1.0.0) (3.0.9)\n",
      "Requirement already satisfied: cycler>=0.10 in e:\\anaconda\\envs\\pytorch\\lib\\site-packages (from matplotlib->mmsegmentation==1.0.0) (0.11.0)\n",
      "Requirement already satisfied: wcwidth in e:\\anaconda\\envs\\pytorch\\lib\\site-packages (from prettytable->mmsegmentation==1.0.0) (0.2.5)\n",
      "Requirement already satisfied: six>=1.5 in e:\\anaconda\\envs\\pytorch\\lib\\site-packages (from python-dateutil>=2.7->matplotlib->mmsegmentation==1.0.0) (1.16.0)\n",
      "Installing collected packages: mmsegmentation\n",
      "  Running setup.py develop for mmsegmentation\n",
      "Successfully installed mmsegmentation-1.0.0\n",
      "Note: you may need to restart the kernel to use updated packages.\n"
     ]
    },
    {
     "name": "stderr",
     "output_type": "stream",
     "text": [
      "WARNING: Ignoring invalid distribution -rotobuf (e:\\anaconda\\envs\\pytorch\\lib\\site-packages)\n",
      "WARNING: Ignoring invalid distribution -rotobuf (e:\\anaconda\\envs\\pytorch\\lib\\site-packages)\n",
      "  Running command python setup.py egg_info\n",
      "  running egg_info\n",
      "  creating C:\\Users\\ASUS\\AppData\\Local\\Temp\\pip-pip-egg-info-4ilntgob\\mmsegmentation.egg-info\n",
      "  writing C:\\Users\\ASUS\\AppData\\Local\\Temp\\pip-pip-egg-info-4ilntgob\\mmsegmentation.egg-info\\PKG-INFO\n",
      "  writing dependency_links to C:\\Users\\ASUS\\AppData\\Local\\Temp\\pip-pip-egg-info-4ilntgob\\mmsegmentation.egg-info\\dependency_links.txt\n",
      "  writing requirements to C:\\Users\\ASUS\\AppData\\Local\\Temp\\pip-pip-egg-info-4ilntgob\\mmsegmentation.egg-info\\requires.txt\n",
      "  writing top-level names to C:\\Users\\ASUS\\AppData\\Local\\Temp\\pip-pip-egg-info-4ilntgob\\mmsegmentation.egg-info\\top_level.txt\n",
      "  writing manifest file 'C:\\Users\\ASUS\\AppData\\Local\\Temp\\pip-pip-egg-info-4ilntgob\\mmsegmentation.egg-info\\SOURCES.txt'\n",
      "  reading manifest file 'C:\\Users\\ASUS\\AppData\\Local\\Temp\\pip-pip-egg-info-4ilntgob\\mmsegmentation.egg-info\\SOURCES.txt'\n",
      "  reading manifest template 'MANIFEST.in'\n",
      "  adding license file 'LICENSE'\n",
      "  writing manifest file 'C:\\Users\\ASUS\\AppData\\Local\\Temp\\pip-pip-egg-info-4ilntgob\\mmsegmentation.egg-info\\SOURCES.txt'\n",
      "  WARNING: Ignoring invalid distribution -rotobuf (e:\\anaconda\\envs\\pytorch\\lib\\site-packages)\n",
      "WARNING: Ignoring invalid distribution -rotobuf (e:\\anaconda\\envs\\pytorch\\lib\\site-packages)\n",
      "    Running command python setup.py develop\n",
      "    running develop\n",
      "    e:\\anaconda\\envs\\pytorch\\lib\\site-packages\\setuptools\\command\\easy_install.py:144: EasyInstallDeprecationWarning: easy_install command is deprecated. Use build and pip and other standards-based tools.\n",
      "      warnings.warn(\n",
      "    e:\\anaconda\\envs\\pytorch\\lib\\site-packages\\setuptools\\command\\install.py:34: SetuptoolsDeprecationWarning: setup.py install is deprecated. Use build and pip and other standards-based tools.\n",
      "      warnings.warn(\n",
      "    running egg_info\n",
      "    creating mmsegmentation.egg-info\n",
      "    writing mmsegmentation.egg-info\\PKG-INFO\n",
      "    writing dependency_links to mmsegmentation.egg-info\\dependency_links.txt\n",
      "    writing requirements to mmsegmentation.egg-info\\requires.txt\n",
      "    writing top-level names to mmsegmentation.egg-info\\top_level.txt\n",
      "    writing manifest file 'mmsegmentation.egg-info\\SOURCES.txt'\n",
      "    reading manifest file 'mmsegmentation.egg-info\\SOURCES.txt'\n",
      "    reading manifest template 'MANIFEST.in'\n",
      "    adding license file 'LICENSE'\n",
      "    writing manifest file 'mmsegmentation.egg-info\\SOURCES.txt'\n",
      "    running build_ext\n",
      "    Creating e:\\anaconda\\envs\\pytorch\\lib\\site-packages\\mmsegmentation.egg-link (link to .)\n",
      "    Adding mmsegmentation 1.0.0 to easy-install.pth file\n",
      "\n",
      "    Installed f:\\github\\openmmlab_mmsegmentation\\openmmlab_mmsegmentation-main\\mmsegmentation\n",
      "WARNING: Ignoring invalid distribution -rotobuf (e:\\anaconda\\envs\\pytorch\\lib\\site-packages)\n",
      "WARNING: Ignoring invalid distribution -rotobuf (e:\\anaconda\\envs\\pytorch\\lib\\site-packages)\n",
      "WARNING: Ignoring invalid distribution -rotobuf (e:\\anaconda\\envs\\pytorch\\lib\\site-packages)\n",
      "WARNING: Ignoring invalid distribution -rotobuf (e:\\anaconda\\envs\\pytorch\\lib\\site-packages)\n",
      "WARNING: Ignoring invalid distribution -rotobuf (e:\\anaconda\\envs\\pytorch\\lib\\site-packages)\n"
     ]
    }
   ],
   "source": [
    "%pip install -v -e ."
   ]
  },
  {
   "cell_type": "code",
   "execution_count": 3,
   "metadata": {},
   "outputs": [
    {
     "name": "stderr",
     "output_type": "stream",
     "text": [
      "e:\\anaconda\\envs\\pytorch\\lib\\site-packages\\tqdm\\auto.py:22: TqdmWarning: IProgress not found. Please update jupyter and ipywidgets. See https://ipywidgets.readthedocs.io/en/stable/user_install.html\n",
      "  from .autonotebook import tqdm as notebook_tqdm\n"
     ]
    },
    {
     "name": "stdout",
     "output_type": "stream",
     "text": [
      "MMCV版本 2.0.0rc4\n",
      "CUDA版本 11.3\n",
      "编译器版本 MSVC 192829924\n"
     ]
    }
   ],
   "source": [
    "# 检查 mmcv\n",
    "import mmcv\n",
    "from mmcv.ops import get_compiling_cuda_version, get_compiler_version\n",
    "print('MMCV版本', mmcv.__version__)\n",
    "print('CUDA版本', get_compiling_cuda_version())\n",
    "print('编译器版本', get_compiler_version())"
   ]
  },
  {
   "cell_type": "code",
   "execution_count": 4,
   "metadata": {},
   "outputs": [
    {
     "name": "stdout",
     "output_type": "stream",
     "text": [
      "mmsegmentation版本 1.0.0\n"
     ]
    }
   ],
   "source": [
    "# 检查 mmsegmentation\n",
    "import mmseg\n",
    "from mmseg.utils import register_all_modules\n",
    "from mmseg.apis import inference_model, init_model\n",
    "print('mmsegmentation版本', mmseg.__version__)"
   ]
  }
 ],
 "metadata": {
  "kernelspec": {
   "display_name": "pytorch",
   "language": "python",
   "name": "python3"
  },
  "language_info": {
   "codemirror_mode": {
    "name": "ipython",
    "version": 3
   },
   "file_extension": ".py",
   "mimetype": "text/x-python",
   "name": "python",
   "nbconvert_exporter": "python",
   "pygments_lexer": "ipython3",
   "version": "3.10.6"
  },
  "orig_nbformat": 4
 },
 "nbformat": 4,
 "nbformat_minor": 2
}
